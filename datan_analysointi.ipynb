{
 "cells": [
  {
   "cell_type": "markdown",
   "id": "a0d408ba-eaa9-48e2-97b9-744a77f316cc",
   "metadata": {},
   "source": [
    "## Aineisto\n",
    "\n",
    "Tehtävän aineisto on ladattu Tilastokeskuksen [Avoin data](https://stat.fi/org/avoindata/index.html) sivustolta 16.12.2024, ja se sisältää dataa Suomessa sattuneista riistaonnettomuuksista sijainnin mukaan vuosina 2017-2019. Aineisto on yhtenä CSV-tiedostona. \n",
    "Riistaonnettomuudet-tilasto on tuotettu kokeellisena tilastona, ja lisätietoa siitä on luettavissa [Riistaonnettomuudet-sivulta](https://stat.fi/tup/kokeelliset-tilastot/riistaonnettomuudet/index.html). "
   ]
  },
  {
   "cell_type": "markdown",
   "id": "d73dcbc4-5b19-465e-a51d-71259e31776f",
   "metadata": {},
   "source": [
    "## Datan tuonti \n",
    "\n",
    "Luetaan csv-tiedosto datakehikkoon *df* ja katsotaan, miltä sen alku näyttää."
   ]
  },
  {
   "cell_type": "code",
   "execution_count": 8,
   "id": "c41e48c1-e496-45d9-b81c-a36ea7264247",
   "metadata": {
    "tags": []
   },
   "outputs": [],
   "source": [
    "import pandas as pd\n",
    "import numpy as np\n",
    "import seaborn as sns\n",
    "import matplotlib.pyplot as plt"
   ]
  },
  {
   "cell_type": "code",
   "execution_count": 12,
   "id": "2bbfde41-3e5a-4a97-81f6-64edb0b7cb77",
   "metadata": {
    "tags": []
   },
   "outputs": [],
   "source": [
    "df = pd.read_csv(\"riista.csv\", encoding = \"latin1\")"
   ]
  },
  {
   "cell_type": "code",
   "execution_count": 13,
   "id": "387c327a-96bb-4568-a7b6-5b339ad85baf",
   "metadata": {
    "tags": []
   },
   "outputs": [
    {
     "data": {
      "text/html": [
       "<div>\n",
       "<style scoped>\n",
       "    .dataframe tbody tr th:only-of-type {\n",
       "        vertical-align: middle;\n",
       "    }\n",
       "\n",
       "    .dataframe tbody tr th {\n",
       "        vertical-align: top;\n",
       "    }\n",
       "\n",
       "    .dataframe thead th {\n",
       "        text-align: right;\n",
       "    }\n",
       "</style>\n",
       "<table border=\"1\" class=\"dataframe\">\n",
       "  <thead>\n",
       "    <tr style=\"text-align: right;\">\n",
       "      <th></th>\n",
       "      <th>id</th>\n",
       "      <th>tapahtumaAika</th>\n",
       "      <th>vuosi</th>\n",
       "      <th>kuukausi</th>\n",
       "      <th>x</th>\n",
       "      <th>y</th>\n",
       "      <th>kunta</th>\n",
       "      <th>kuntaNimi</th>\n",
       "      <th>maakunta</th>\n",
       "      <th>maakuntaNimi</th>\n",
       "      <th>tielaji</th>\n",
       "      <th>tielajis</th>\n",
       "      <th>tieNumero</th>\n",
       "      <th>tieYllapito</th>\n",
       "      <th>tieYllapitoNimi</th>\n",
       "      <th>riistalaji</th>\n",
       "      <th>riistalajiNimi</th>\n",
       "    </tr>\n",
       "  </thead>\n",
       "  <tbody>\n",
       "    <tr>\n",
       "      <th>0</th>\n",
       "      <td>1</td>\n",
       "      <td>2017-12-10T16:55:00.000+02:00</td>\n",
       "      <td>2017</td>\n",
       "      <td>12</td>\n",
       "      <td>278773.659</td>\n",
       "      <td>6980877.550</td>\n",
       "      <td>743</td>\n",
       "      <td>Seinäjoki</td>\n",
       "      <td>14</td>\n",
       "      <td>Etelä-Pohjanmaa</td>\n",
       "      <td>3</td>\n",
       "      <td>Valtatie</td>\n",
       "      <td>18.0</td>\n",
       "      <td>1.0</td>\n",
       "      <td>Valtio</td>\n",
       "      <td>47507</td>\n",
       "      <td>Metsäkauris</td>\n",
       "    </tr>\n",
       "    <tr>\n",
       "      <th>1</th>\n",
       "      <td>2</td>\n",
       "      <td>2017-09-03T13:00:00.000+03:00</td>\n",
       "      <td>2017</td>\n",
       "      <td>9</td>\n",
       "      <td>397501.008</td>\n",
       "      <td>7503083.730</td>\n",
       "      <td>261</td>\n",
       "      <td>Kittilä</td>\n",
       "      <td>19</td>\n",
       "      <td>Lappi</td>\n",
       "      <td>4</td>\n",
       "      <td>Kantatie</td>\n",
       "      <td>80.0</td>\n",
       "      <td>1.0</td>\n",
       "      <td>Valtio</td>\n",
       "      <td>47503</td>\n",
       "      <td>Hirvi</td>\n",
       "    </tr>\n",
       "    <tr>\n",
       "      <th>2</th>\n",
       "      <td>3</td>\n",
       "      <td>2017-09-18T07:00:00.000+03:00</td>\n",
       "      <td>2017</td>\n",
       "      <td>9</td>\n",
       "      <td>418353.841</td>\n",
       "      <td>7514104.657</td>\n",
       "      <td>261</td>\n",
       "      <td>Kittilä</td>\n",
       "      <td>19</td>\n",
       "      <td>Lappi</td>\n",
       "      <td>6</td>\n",
       "      <td>Muu maantie</td>\n",
       "      <td>9552.0</td>\n",
       "      <td>1.0</td>\n",
       "      <td>Valtio</td>\n",
       "      <td>47503</td>\n",
       "      <td>Hirvi</td>\n",
       "    </tr>\n",
       "    <tr>\n",
       "      <th>3</th>\n",
       "      <td>4</td>\n",
       "      <td>2017-12-01T17:00:00.000+02:00</td>\n",
       "      <td>2017</td>\n",
       "      <td>12</td>\n",
       "      <td>488970.827</td>\n",
       "      <td>6722504.397</td>\n",
       "      <td>285</td>\n",
       "      <td>Kotka</td>\n",
       "      <td>8</td>\n",
       "      <td>Kymenlaakso</td>\n",
       "      <td>5</td>\n",
       "      <td>Seututie</td>\n",
       "      <td>357.0</td>\n",
       "      <td>1.0</td>\n",
       "      <td>Valtio</td>\n",
       "      <td>47629</td>\n",
       "      <td>Valkohäntäpeura</td>\n",
       "    </tr>\n",
       "    <tr>\n",
       "      <th>4</th>\n",
       "      <td>5</td>\n",
       "      <td>2017-09-18T07:00:00.000+03:00</td>\n",
       "      <td>2017</td>\n",
       "      <td>9</td>\n",
       "      <td>418766.580</td>\n",
       "      <td>7506930.833</td>\n",
       "      <td>261</td>\n",
       "      <td>Kittilä</td>\n",
       "      <td>19</td>\n",
       "      <td>Lappi</td>\n",
       "      <td>6</td>\n",
       "      <td>Muu maantie</td>\n",
       "      <td>9552.0</td>\n",
       "      <td>1.0</td>\n",
       "      <td>Valtio</td>\n",
       "      <td>47503</td>\n",
       "      <td>Hirvi</td>\n",
       "    </tr>\n",
       "  </tbody>\n",
       "</table>\n",
       "</div>"
      ],
      "text/plain": [
       "   id                  tapahtumaAika  vuosi  kuukausi           x  \\\n",
       "0   1  2017-12-10T16:55:00.000+02:00   2017        12  278773.659   \n",
       "1   2  2017-09-03T13:00:00.000+03:00   2017         9  397501.008   \n",
       "2   3  2017-09-18T07:00:00.000+03:00   2017         9  418353.841   \n",
       "3   4  2017-12-01T17:00:00.000+02:00   2017        12  488970.827   \n",
       "4   5  2017-09-18T07:00:00.000+03:00   2017         9  418766.580   \n",
       "\n",
       "             y  kunta  kuntaNimi  maakunta     maakuntaNimi  tielaji  \\\n",
       "0  6980877.550    743  Seinäjoki        14  Etelä-Pohjanmaa        3   \n",
       "1  7503083.730    261    Kittilä        19            Lappi        4   \n",
       "2  7514104.657    261    Kittilä        19            Lappi        6   \n",
       "3  6722504.397    285      Kotka         8      Kymenlaakso        5   \n",
       "4  7506930.833    261    Kittilä        19            Lappi        6   \n",
       "\n",
       "      tielajis  tieNumero  tieYllapito tieYllapitoNimi  riistalaji  \\\n",
       "0     Valtatie       18.0          1.0          Valtio       47507   \n",
       "1     Kantatie       80.0          1.0          Valtio       47503   \n",
       "2  Muu maantie     9552.0          1.0          Valtio       47503   \n",
       "3     Seututie      357.0          1.0          Valtio       47629   \n",
       "4  Muu maantie     9552.0          1.0          Valtio       47503   \n",
       "\n",
       "    riistalajiNimi  \n",
       "0      Metsäkauris  \n",
       "1            Hirvi  \n",
       "2            Hirvi  \n",
       "3  Valkohäntäpeura  \n",
       "4            Hirvi  "
      ]
     },
     "execution_count": 13,
     "metadata": {},
     "output_type": "execute_result"
    }
   ],
   "source": [
    "df.head()"
   ]
  },
  {
   "cell_type": "markdown",
   "id": "bde198a3-a82d-4d0b-bb82-96956d6e95ef",
   "metadata": {},
   "source": [
    "Tutkitaan aineistoa hieman:"
   ]
  },
  {
   "cell_type": "code",
   "execution_count": 14,
   "id": "628e3ad0-c657-4ba9-8ef9-cf9d62c7f52a",
   "metadata": {
    "tags": []
   },
   "outputs": [
    {
     "name": "stdout",
     "output_type": "stream",
     "text": [
      "<class 'pandas.core.frame.DataFrame'>\n",
      "RangeIndex: 63942 entries, 0 to 63941\n",
      "Data columns (total 17 columns):\n",
      " #   Column           Non-Null Count  Dtype  \n",
      "---  ------           --------------  -----  \n",
      " 0   id               63942 non-null  int64  \n",
      " 1   tapahtumaAika    63942 non-null  object \n",
      " 2   vuosi            63942 non-null  int64  \n",
      " 3   kuukausi         63942 non-null  int64  \n",
      " 4   x                63938 non-null  float64\n",
      " 5   y                63938 non-null  float64\n",
      " 6   kunta            63942 non-null  int64  \n",
      " 7   kuntaNimi        63942 non-null  object \n",
      " 8   maakunta         63942 non-null  int64  \n",
      " 9   maakuntaNimi     63942 non-null  object \n",
      " 10  tielaji          63942 non-null  int64  \n",
      " 11  tielajis         63942 non-null  object \n",
      " 12  tieNumero        54512 non-null  float64\n",
      " 13  tieYllapito      63938 non-null  float64\n",
      " 14  tieYllapitoNimi  63942 non-null  object \n",
      " 15  riistalaji       63942 non-null  int64  \n",
      " 16  riistalajiNimi   63942 non-null  object \n",
      "dtypes: float64(4), int64(7), object(6)\n",
      "memory usage: 8.3+ MB\n"
     ]
    }
   ],
   "source": [
    "df.info()"
   ]
  },
  {
   "cell_type": "markdown",
   "id": "dd2025f4-fa8b-4875-b159-5192bded8e79",
   "metadata": {},
   "source": [
    "Vaikuttaa siltä, ettei aineisto sisällä puuttuvia arvoja, ja että sarakkeiden tietotyypit ovat oikein. Tämä helpottaa esikäsittelyä, sillä puuttuvia arvoja sisältävien havaintojen käsittelyä ei tarvitse nyt pohtia.    \n",
    "\n",
    "Tarkastetaan seuraavaksi, sisältääkö data duplikaattirivejä:"
   ]
  },
  {
   "cell_type": "code",
   "execution_count": 20,
   "id": "d9c88753-9e9a-4e33-ad4e-a79e8abbc4e5",
   "metadata": {
    "tags": []
   },
   "outputs": [
    {
     "data": {
      "text/html": [
       "<div>\n",
       "<style scoped>\n",
       "    .dataframe tbody tr th:only-of-type {\n",
       "        vertical-align: middle;\n",
       "    }\n",
       "\n",
       "    .dataframe tbody tr th {\n",
       "        vertical-align: top;\n",
       "    }\n",
       "\n",
       "    .dataframe thead th {\n",
       "        text-align: right;\n",
       "    }\n",
       "</style>\n",
       "<table border=\"1\" class=\"dataframe\">\n",
       "  <thead>\n",
       "    <tr style=\"text-align: right;\">\n",
       "      <th></th>\n",
       "      <th>id</th>\n",
       "      <th>tapahtumaAika</th>\n",
       "      <th>vuosi</th>\n",
       "      <th>kuukausi</th>\n",
       "      <th>x</th>\n",
       "      <th>y</th>\n",
       "      <th>kunta</th>\n",
       "      <th>kuntaNimi</th>\n",
       "      <th>maakunta</th>\n",
       "      <th>maakuntaNimi</th>\n",
       "      <th>tielaji</th>\n",
       "      <th>tielajis</th>\n",
       "      <th>tieNumero</th>\n",
       "      <th>tieYllapito</th>\n",
       "      <th>tieYllapitoNimi</th>\n",
       "      <th>riistalaji</th>\n",
       "      <th>riistalajiNimi</th>\n",
       "    </tr>\n",
       "  </thead>\n",
       "  <tbody>\n",
       "  </tbody>\n",
       "</table>\n",
       "</div>"
      ],
      "text/plain": [
       "Empty DataFrame\n",
       "Columns: [id, tapahtumaAika, vuosi, kuukausi, x, y, kunta, kuntaNimi, maakunta, maakuntaNimi, tielaji, tielajis, tieNumero, tieYllapito, tieYllapitoNimi, riistalaji, riistalajiNimi]\n",
       "Index: []"
      ]
     },
     "execution_count": 20,
     "metadata": {},
     "output_type": "execute_result"
    }
   ],
   "source": [
    "duplikaatti = df[df.duplicated()]\n",
    "duplikaatti"
   ]
  },
  {
   "cell_type": "markdown",
   "id": "06a55907-c5c7-46f4-9de8-ef3a9c560d9c",
   "metadata": {
    "tags": []
   },
   "source": [
    "Ei sisällä, mikä on hyvä juttu. Tämä data vaikuttaa siistiltä ja ehjältä jo valmiiksi, ja on periaatteessa valmis analyysiä varten. Lisätään aineistoon kuitenkin uusi sarake *vuodenaika* tapahtumakuukauden perusteella:"
   ]
  },
  {
   "cell_type": "code",
   "execution_count": 23,
   "id": "7dfc76b1-54a3-46a5-b47e-3e0b4d795b8c",
   "metadata": {
    "tags": []
   },
   "outputs": [
    {
     "data": {
      "text/html": [
       "<div>\n",
       "<style scoped>\n",
       "    .dataframe tbody tr th:only-of-type {\n",
       "        vertical-align: middle;\n",
       "    }\n",
       "\n",
       "    .dataframe tbody tr th {\n",
       "        vertical-align: top;\n",
       "    }\n",
       "\n",
       "    .dataframe thead th {\n",
       "        text-align: right;\n",
       "    }\n",
       "</style>\n",
       "<table border=\"1\" class=\"dataframe\">\n",
       "  <thead>\n",
       "    <tr style=\"text-align: right;\">\n",
       "      <th></th>\n",
       "      <th>id</th>\n",
       "      <th>tapahtumaAika</th>\n",
       "      <th>vuosi</th>\n",
       "      <th>kuukausi</th>\n",
       "      <th>x</th>\n",
       "      <th>y</th>\n",
       "      <th>kunta</th>\n",
       "      <th>kuntaNimi</th>\n",
       "      <th>maakunta</th>\n",
       "      <th>maakuntaNimi</th>\n",
       "      <th>tielaji</th>\n",
       "      <th>tielajis</th>\n",
       "      <th>tieNumero</th>\n",
       "      <th>tieYllapito</th>\n",
       "      <th>tieYllapitoNimi</th>\n",
       "      <th>riistalaji</th>\n",
       "      <th>riistalajiNimi</th>\n",
       "      <th>vuodenaika</th>\n",
       "    </tr>\n",
       "  </thead>\n",
       "  <tbody>\n",
       "    <tr>\n",
       "      <th>0</th>\n",
       "      <td>1</td>\n",
       "      <td>2017-12-10T16:55:00.000+02:00</td>\n",
       "      <td>2017</td>\n",
       "      <td>12</td>\n",
       "      <td>278773.659</td>\n",
       "      <td>6980877.550</td>\n",
       "      <td>743</td>\n",
       "      <td>Seinäjoki</td>\n",
       "      <td>14</td>\n",
       "      <td>Etelä-Pohjanmaa</td>\n",
       "      <td>3</td>\n",
       "      <td>Valtatie</td>\n",
       "      <td>18.0</td>\n",
       "      <td>1.0</td>\n",
       "      <td>Valtio</td>\n",
       "      <td>47507</td>\n",
       "      <td>Metsäkauris</td>\n",
       "      <td>talvi</td>\n",
       "    </tr>\n",
       "    <tr>\n",
       "      <th>1</th>\n",
       "      <td>2</td>\n",
       "      <td>2017-09-03T13:00:00.000+03:00</td>\n",
       "      <td>2017</td>\n",
       "      <td>9</td>\n",
       "      <td>397501.008</td>\n",
       "      <td>7503083.730</td>\n",
       "      <td>261</td>\n",
       "      <td>Kittilä</td>\n",
       "      <td>19</td>\n",
       "      <td>Lappi</td>\n",
       "      <td>4</td>\n",
       "      <td>Kantatie</td>\n",
       "      <td>80.0</td>\n",
       "      <td>1.0</td>\n",
       "      <td>Valtio</td>\n",
       "      <td>47503</td>\n",
       "      <td>Hirvi</td>\n",
       "      <td>syksy</td>\n",
       "    </tr>\n",
       "    <tr>\n",
       "      <th>2</th>\n",
       "      <td>3</td>\n",
       "      <td>2017-09-18T07:00:00.000+03:00</td>\n",
       "      <td>2017</td>\n",
       "      <td>9</td>\n",
       "      <td>418353.841</td>\n",
       "      <td>7514104.657</td>\n",
       "      <td>261</td>\n",
       "      <td>Kittilä</td>\n",
       "      <td>19</td>\n",
       "      <td>Lappi</td>\n",
       "      <td>6</td>\n",
       "      <td>Muu maantie</td>\n",
       "      <td>9552.0</td>\n",
       "      <td>1.0</td>\n",
       "      <td>Valtio</td>\n",
       "      <td>47503</td>\n",
       "      <td>Hirvi</td>\n",
       "      <td>syksy</td>\n",
       "    </tr>\n",
       "    <tr>\n",
       "      <th>3</th>\n",
       "      <td>4</td>\n",
       "      <td>2017-12-01T17:00:00.000+02:00</td>\n",
       "      <td>2017</td>\n",
       "      <td>12</td>\n",
       "      <td>488970.827</td>\n",
       "      <td>6722504.397</td>\n",
       "      <td>285</td>\n",
       "      <td>Kotka</td>\n",
       "      <td>8</td>\n",
       "      <td>Kymenlaakso</td>\n",
       "      <td>5</td>\n",
       "      <td>Seututie</td>\n",
       "      <td>357.0</td>\n",
       "      <td>1.0</td>\n",
       "      <td>Valtio</td>\n",
       "      <td>47629</td>\n",
       "      <td>Valkohäntäpeura</td>\n",
       "      <td>talvi</td>\n",
       "    </tr>\n",
       "    <tr>\n",
       "      <th>4</th>\n",
       "      <td>5</td>\n",
       "      <td>2017-09-18T07:00:00.000+03:00</td>\n",
       "      <td>2017</td>\n",
       "      <td>9</td>\n",
       "      <td>418766.580</td>\n",
       "      <td>7506930.833</td>\n",
       "      <td>261</td>\n",
       "      <td>Kittilä</td>\n",
       "      <td>19</td>\n",
       "      <td>Lappi</td>\n",
       "      <td>6</td>\n",
       "      <td>Muu maantie</td>\n",
       "      <td>9552.0</td>\n",
       "      <td>1.0</td>\n",
       "      <td>Valtio</td>\n",
       "      <td>47503</td>\n",
       "      <td>Hirvi</td>\n",
       "      <td>syksy</td>\n",
       "    </tr>\n",
       "  </tbody>\n",
       "</table>\n",
       "</div>"
      ],
      "text/plain": [
       "   id                  tapahtumaAika  vuosi  kuukausi           x  \\\n",
       "0   1  2017-12-10T16:55:00.000+02:00   2017        12  278773.659   \n",
       "1   2  2017-09-03T13:00:00.000+03:00   2017         9  397501.008   \n",
       "2   3  2017-09-18T07:00:00.000+03:00   2017         9  418353.841   \n",
       "3   4  2017-12-01T17:00:00.000+02:00   2017        12  488970.827   \n",
       "4   5  2017-09-18T07:00:00.000+03:00   2017         9  418766.580   \n",
       "\n",
       "             y  kunta  kuntaNimi  maakunta     maakuntaNimi  tielaji  \\\n",
       "0  6980877.550    743  Seinäjoki        14  Etelä-Pohjanmaa        3   \n",
       "1  7503083.730    261    Kittilä        19            Lappi        4   \n",
       "2  7514104.657    261    Kittilä        19            Lappi        6   \n",
       "3  6722504.397    285      Kotka         8      Kymenlaakso        5   \n",
       "4  7506930.833    261    Kittilä        19            Lappi        6   \n",
       "\n",
       "      tielajis  tieNumero  tieYllapito tieYllapitoNimi  riistalaji  \\\n",
       "0     Valtatie       18.0          1.0          Valtio       47507   \n",
       "1     Kantatie       80.0          1.0          Valtio       47503   \n",
       "2  Muu maantie     9552.0          1.0          Valtio       47503   \n",
       "3     Seututie      357.0          1.0          Valtio       47629   \n",
       "4  Muu maantie     9552.0          1.0          Valtio       47503   \n",
       "\n",
       "    riistalajiNimi vuodenaika  \n",
       "0      Metsäkauris      talvi  \n",
       "1            Hirvi      syksy  \n",
       "2            Hirvi      syksy  \n",
       "3  Valkohäntäpeura      talvi  \n",
       "4            Hirvi      syksy  "
      ]
     },
     "execution_count": 23,
     "metadata": {},
     "output_type": "execute_result"
    }
   ],
   "source": [
    "vuodenajat = {\n",
    "    1: \"talvi\",\n",
    "    2: \"talvi\",\n",
    "    3: \"kevät\",\n",
    "    4: \"kevät\",\n",
    "    5: \"kevät\",\n",
    "    6: \"kesä\",\n",
    "    7: \"kesä\",\n",
    "    8: \"kesä\",\n",
    "    9: \"syksy\",\n",
    "    10: \"syksy\",\n",
    "    11: \"syksy\",\n",
    "    12: \"talvi\"}\n",
    "\n",
    "df['vuodenaika'] = df['kuukausi'].map(vuodenajat)     # map-metodin parametrina sanakirja 'vuodenajat'\n",
    "\n",
    "df.head()"
   ]
  },
  {
   "cell_type": "markdown",
   "id": "8a5bb954-e332-4c61-ba64-6ddf43ab1600",
   "metadata": {},
   "source": [
    "## Datan kuvailu\n",
    "\n",
    "Tutkitaan seuraavaksi tarkemmin, millaista dataa aineisto sisältää."
   ]
  },
  {
   "cell_type": "code",
   "execution_count": 26,
   "id": "ade91d51-814b-43ca-93fe-a61859db0bf9",
   "metadata": {
    "tags": []
   },
   "outputs": [
    {
     "data": {
      "text/plain": [
       "(63942, 18)"
      ]
     },
     "execution_count": 26,
     "metadata": {},
     "output_type": "execute_result"
    }
   ],
   "source": [
    "df.shape"
   ]
  },
  {
   "cell_type": "markdown",
   "id": "469df927-6a6e-4d10-8cad-8c64824f7a5d",
   "metadata": {},
   "source": [
    "Kuten aiemmin jo huomattiin, aineistossa on noin 64 000 havaintoa (ts. riviä), ja 18 saraketta. Sarakkeet ovat seuraavat:"
   ]
  },
  {
   "cell_type": "code",
   "execution_count": 27,
   "id": "e5a9b486-65f2-4988-9c74-473ac6598f1d",
   "metadata": {
    "tags": []
   },
   "outputs": [
    {
     "data": {
      "text/plain": [
       "Index(['id', 'tapahtumaAika', 'vuosi', 'kuukausi', 'x', 'y', 'kunta',\n",
       "       'kuntaNimi', 'maakunta', 'maakuntaNimi', 'tielaji', 'tielajis',\n",
       "       'tieNumero', 'tieYllapito', 'tieYllapitoNimi', 'riistalaji',\n",
       "       'riistalajiNimi', 'vuodenaika'],\n",
       "      dtype='object')"
      ]
     },
     "execution_count": 27,
     "metadata": {},
     "output_type": "execute_result"
    }
   ],
   "source": [
    "df.columns"
   ]
  },
  {
   "cell_type": "markdown",
   "id": "7b41539a-fe42-4501-aac4-c311176bee95",
   "metadata": {},
   "source": [
    "Tutkitaan aineistoa seuraavaksi tilastollisten tunnuslukujen avulla. "
   ]
  },
  {
   "cell_type": "code",
   "execution_count": 24,
   "id": "601463b8-f75e-48a3-ac3e-7dc476ee6451",
   "metadata": {
    "tags": []
   },
   "outputs": [
    {
     "data": {
      "text/html": [
       "<div>\n",
       "<style scoped>\n",
       "    .dataframe tbody tr th:only-of-type {\n",
       "        vertical-align: middle;\n",
       "    }\n",
       "\n",
       "    .dataframe tbody tr th {\n",
       "        vertical-align: top;\n",
       "    }\n",
       "\n",
       "    .dataframe thead th {\n",
       "        text-align: right;\n",
       "    }\n",
       "</style>\n",
       "<table border=\"1\" class=\"dataframe\">\n",
       "  <thead>\n",
       "    <tr style=\"text-align: right;\">\n",
       "      <th></th>\n",
       "      <th>id</th>\n",
       "      <th>vuosi</th>\n",
       "      <th>kuukausi</th>\n",
       "      <th>x</th>\n",
       "      <th>y</th>\n",
       "      <th>kunta</th>\n",
       "      <th>maakunta</th>\n",
       "      <th>tielaji</th>\n",
       "      <th>tieNumero</th>\n",
       "      <th>tieYllapito</th>\n",
       "      <th>riistalaji</th>\n",
       "    </tr>\n",
       "  </thead>\n",
       "  <tbody>\n",
       "    <tr>\n",
       "      <th>count</th>\n",
       "      <td>63942.000000</td>\n",
       "      <td>63942.000000</td>\n",
       "      <td>63942.000000</td>\n",
       "      <td>63938.000000</td>\n",
       "      <td>6.393800e+04</td>\n",
       "      <td>63942.000000</td>\n",
       "      <td>63942.000000</td>\n",
       "      <td>63942.000000</td>\n",
       "      <td>54512.000000</td>\n",
       "      <td>63938.000000</td>\n",
       "      <td>63942.000000</td>\n",
       "    </tr>\n",
       "    <tr>\n",
       "      <th>mean</th>\n",
       "      <td>31971.500000</td>\n",
       "      <td>2019.143192</td>\n",
       "      <td>7.731397</td>\n",
       "      <td>331629.551888</td>\n",
       "      <td>6.801938e+06</td>\n",
       "      <td>488.237794</td>\n",
       "      <td>5.528917</td>\n",
       "      <td>5.134028</td>\n",
       "      <td>5340.253375</td>\n",
       "      <td>5.573212</td>\n",
       "      <td>48345.890088</td>\n",
       "    </tr>\n",
       "    <tr>\n",
       "      <th>std</th>\n",
       "      <td>18458.609793</td>\n",
       "      <td>1.379397</td>\n",
       "      <td>3.304244</td>\n",
       "      <td>92556.977805</td>\n",
       "      <td>1.420547e+05</td>\n",
       "      <td>278.793556</td>\n",
       "      <td>4.904538</td>\n",
       "      <td>1.994665</td>\n",
       "      <td>14572.468085</td>\n",
       "      <td>20.213823</td>\n",
       "      <td>10879.514528</td>\n",
       "    </tr>\n",
       "    <tr>\n",
       "      <th>min</th>\n",
       "      <td>1.000000</td>\n",
       "      <td>2017.000000</td>\n",
       "      <td>1.000000</td>\n",
       "      <td>184684.566700</td>\n",
       "      <td>6.638455e+06</td>\n",
       "      <td>5.000000</td>\n",
       "      <td>1.000000</td>\n",
       "      <td>1.000000</td>\n",
       "      <td>1.000000</td>\n",
       "      <td>1.000000</td>\n",
       "      <td>47484.000000</td>\n",
       "    </tr>\n",
       "    <tr>\n",
       "      <th>25%</th>\n",
       "      <td>15986.250000</td>\n",
       "      <td>2018.000000</td>\n",
       "      <td>5.000000</td>\n",
       "      <td>261715.918760</td>\n",
       "      <td>6.712820e+06</td>\n",
       "      <td>232.000000</td>\n",
       "      <td>2.000000</td>\n",
       "      <td>3.000000</td>\n",
       "      <td>18.000000</td>\n",
       "      <td>1.000000</td>\n",
       "      <td>47507.000000</td>\n",
       "    </tr>\n",
       "    <tr>\n",
       "      <th>50%</th>\n",
       "      <td>31971.500000</td>\n",
       "      <td>2019.000000</td>\n",
       "      <td>8.000000</td>\n",
       "      <td>316714.446885</td>\n",
       "      <td>6.760530e+06</td>\n",
       "      <td>503.000000</td>\n",
       "      <td>4.000000</td>\n",
       "      <td>5.000000</td>\n",
       "      <td>180.000000</td>\n",
       "      <td>1.000000</td>\n",
       "      <td>47629.000000</td>\n",
       "    </tr>\n",
       "    <tr>\n",
       "      <th>75%</th>\n",
       "      <td>47956.750000</td>\n",
       "      <td>2020.000000</td>\n",
       "      <td>11.000000</td>\n",
       "      <td>380399.198640</td>\n",
       "      <td>6.826629e+06</td>\n",
       "      <td>734.000000</td>\n",
       "      <td>6.000000</td>\n",
       "      <td>6.000000</td>\n",
       "      <td>2174.000000</td>\n",
       "      <td>1.000000</td>\n",
       "      <td>47629.000000</td>\n",
       "    </tr>\n",
       "    <tr>\n",
       "      <th>max</th>\n",
       "      <td>63942.000000</td>\n",
       "      <td>2021.000000</td>\n",
       "      <td>12.000000</td>\n",
       "      <td>708725.063000</td>\n",
       "      <td>7.768064e+06</td>\n",
       "      <td>992.000000</td>\n",
       "      <td>19.000000</td>\n",
       "      <td>9.000000</td>\n",
       "      <td>91541.000000</td>\n",
       "      <td>99.000000</td>\n",
       "      <td>200556.000000</td>\n",
       "    </tr>\n",
       "  </tbody>\n",
       "</table>\n",
       "</div>"
      ],
      "text/plain": [
       "                 id         vuosi      kuukausi              x             y  \\\n",
       "count  63942.000000  63942.000000  63942.000000   63938.000000  6.393800e+04   \n",
       "mean   31971.500000   2019.143192      7.731397  331629.551888  6.801938e+06   \n",
       "std    18458.609793      1.379397      3.304244   92556.977805  1.420547e+05   \n",
       "min        1.000000   2017.000000      1.000000  184684.566700  6.638455e+06   \n",
       "25%    15986.250000   2018.000000      5.000000  261715.918760  6.712820e+06   \n",
       "50%    31971.500000   2019.000000      8.000000  316714.446885  6.760530e+06   \n",
       "75%    47956.750000   2020.000000     11.000000  380399.198640  6.826629e+06   \n",
       "max    63942.000000   2021.000000     12.000000  708725.063000  7.768064e+06   \n",
       "\n",
       "              kunta      maakunta       tielaji     tieNumero   tieYllapito  \\\n",
       "count  63942.000000  63942.000000  63942.000000  54512.000000  63938.000000   \n",
       "mean     488.237794      5.528917      5.134028   5340.253375      5.573212   \n",
       "std      278.793556      4.904538      1.994665  14572.468085     20.213823   \n",
       "min        5.000000      1.000000      1.000000      1.000000      1.000000   \n",
       "25%      232.000000      2.000000      3.000000     18.000000      1.000000   \n",
       "50%      503.000000      4.000000      5.000000    180.000000      1.000000   \n",
       "75%      734.000000      6.000000      6.000000   2174.000000      1.000000   \n",
       "max      992.000000     19.000000      9.000000  91541.000000     99.000000   \n",
       "\n",
       "          riistalaji  \n",
       "count   63942.000000  \n",
       "mean    48345.890088  \n",
       "std     10879.514528  \n",
       "min     47484.000000  \n",
       "25%     47507.000000  \n",
       "50%     47629.000000  \n",
       "75%     47629.000000  \n",
       "max    200556.000000  "
      ]
     },
     "execution_count": 24,
     "metadata": {},
     "output_type": "execute_result"
    }
   ],
   "source": [
    "df.describe()"
   ]
  },
  {
   "cell_type": "markdown",
   "id": "750b8692-80bf-457a-8bea-82aa4d565841",
   "metadata": {},
   "source": [
    "*describe*-metodin antamista tilastollisista tunnusluviusta ei tässä ole juurikaan hyötyä, sillä vaikka monet arvoista ovatkin numeromuotoisia, niillä ei ole mielekästä tehdä laskutoimituksia (kuten vaikkapa vuodella tai kunnan numerolla). Yllä olevia tietoja tarkastelemalla kuitenkin huomataan, että aineiston arvot vaikuttavat uskottavilta, esimerkiksi kuukausissa minimi on 1 ja maksimi 12. \n",
    "\n",
    "## Datan visualisointeja\n",
    "\n",
    "Katsotaan sitten, kuinka paljon eri riistaonnettomuuksia on tapahtunut eri vuosina."
   ]
  },
  {
   "cell_type": "code",
   "execution_count": 45,
   "id": "6ddfc8cc-5bb8-4ff7-beaf-8b04cbac4208",
   "metadata": {
    "tags": []
   },
   "outputs": [
    {
     "name": "stdout",
     "output_type": "stream",
     "text": [
      "    vuosi   riistalajiNimi  onnettomuuksien_lkm\n",
      "0    2017            Hirvi                 2021\n",
      "1    2017       Kuusipeura                   11\n",
      "2    2017      Metsäkauris                 2991\n",
      "3    2017       Metsäpeura                   63\n",
      "4    2017  Valkohäntäpeura                 5086\n",
      "5    2017        Villisika                   30\n",
      "6    2018            Hirvi                 1956\n",
      "7    2018       Kuusipeura                   10\n",
      "8    2018      Metsäkauris                 4052\n",
      "9    2018       Metsäpeura                   53\n",
      "10   2018  Valkohäntäpeura                 6251\n",
      "11   2018        Villisika                   28\n",
      "12   2019            Hirvi                 2009\n",
      "13   2019       Kuusipeura                   19\n",
      "14   2019      Metsäkauris                 4792\n",
      "15   2019       Metsäpeura                   73\n",
      "16   2019  Valkohäntäpeura                 6507\n",
      "17   2019        Villisika                   33\n",
      "18   2020            Hirvi                 1527\n",
      "19   2020       Kuusipeura                   24\n",
      "20   2020      Metsäkauris                 5094\n",
      "21   2020       Metsäpeura                   60\n",
      "22   2020  Valkohäntäpeura                 7252\n",
      "23   2020        Villisika                   47\n",
      "24   2021            Hirvi                 1680\n",
      "25   2021       Kuusipeura                   23\n",
      "26   2021      Metsäkauris                 5537\n",
      "27   2021       Metsäpeura                   76\n",
      "28   2021  Valkohäntäpeura                 6607\n",
      "29   2021        Villisika                   30\n"
     ]
    }
   ],
   "source": [
    "tulokset = df.groupby(['vuosi', 'riistalajiNimi']).size()\n",
    "\n",
    "# Muutetaan takaisin dataframeksi, ja annetaan uudelle sarakkeelle nimi:\n",
    "tulokset = tulokset.reset_index(name='onnettomuuksien_lkm') \n",
    "\n",
    "print(tulokset)"
   ]
  },
  {
   "cell_type": "markdown",
   "id": "0c0e1112-d70f-4a43-95c6-dcc002ceaa91",
   "metadata": {},
   "source": [
    "Onnettomuuksien määriä on helpompi vertailla kaavioista. Tehdään kaaviot riistaonnettomuuksien kokonaismäärille vuosittain, sekä riistalajeihin jaoteltuna:"
   ]
  },
  {
   "cell_type": "code",
   "execution_count": 71,
   "id": "027d2418-f150-4822-914d-d1f6d7fc7e9d",
   "metadata": {
    "tags": []
   },
   "outputs": [
    {
     "data": {
      "image/png": "[encoded data removed]",
      "text/plain": [
       "<Figure size 800x500 with 1 Axes>"
      ]
     },
     "metadata": {},
     "output_type": "display_data"
    }
   ],
   "source": [
    "# Riistaonnettomuuksia yhteensä vuosittain:\n",
    "vuosittain = tulokset.groupby('vuosi')['onnettomuuksien_lkm'].sum()\n",
    "\n",
    "# Pylväskaavio:\n",
    "vuosittain.plot(kind='bar', title = \"Riistaonnettomuudet vuosittain 2017-2021\", figsize=(8, 5))\n",
    "\n",
    "plt.ylabel('Onnettomuuksien lkm')\n",
    "plt.xlabel('Vuosi')\n",
    "plt.xticks(rotation = 0)\n",
    "# plt.grid(axis = 'y', color = \"lightgray\")\n",
    "\n",
    "plt.show()"
   ]
  },
  {
   "cell_type": "code",
   "execution_count": 73,
   "id": "65fffd8e-29d3-4acc-8623-9390a6bb44f5",
   "metadata": {
    "tags": []
   },
   "outputs": [
    {
     "data": {
      "image/png": "[encoded data removed]",
      "text/plain": [
       "<Figure size 640x480 with 1 Axes>"
      ]
     },
     "metadata": {},
     "output_type": "display_data"
    }
   ],
   "source": [
    "# Pylväskaaviot joka riistalajille:\n",
    "ax = sns.barplot(tulokset, x = 'vuosi', y = 'onnettomuuksien_lkm', hue = 'riistalajiNimi')\n",
    "\n",
    "# Asetetaan selitelaatikon paikka kaavion ulkopuolelle:\n",
    "sns.move_legend(ax, \"upper left\", bbox_to_anchor=(1, 1), title = 'Riistalaji')\n",
    "\n",
    "plt.ylabel('Onnettomuuksien lkm')\n",
    "plt.xlabel('Vuosi')\n",
    "plt.grid(axis = 'y', color = \"lightgray\")\n",
    "\n",
    "plt.show()"
   ]
  },
  {
   "cell_type": "markdown",
   "id": "dccd3e72-f520-42aa-9897-947fd82ba3d8",
   "metadata": {},
   "source": [
    "Kaavoista nähdään, että riistaonnettomuudet ovat kasvaneet tarkastelujakson aikana noin 10 000 onnettomuudesta 14 000 onnettomuuteen vuodessa. Joka vuonna suurin osa onnettomuuksista on tapahtunut valkohäntäpeuran kanssa, ja toiseksi eniten onnettomuuksia on tapahtunut metsäkauriin kanssa. Jakson aikana metsäkaurisonnettomuudet ovat liki kaksinkertaistuneet, ja myös valkohäntäpeuraonnettomuudet ovat lisääntyneet aina vuoteen 2020 saakka. Hirvionnettomuuksien vuotuinen määrä sen sijaan on 2020-luvulla hieman vähentynyt aiempiin vuosiin verrattuna."
   ]
  },
  {
   "cell_type": "code",
   "execution_count": null,
   "id": "478fbc24-7f8a-4883-921f-7b9352b64525",
   "metadata": {},
   "outputs": [],
   "source": []
  }
 ],
 "metadata": {
  "kernelspec": {
   "display_name": "Python 3 (ipykernel)",
   "language": "python",
   "name": "python3"
  },
  "language_info": {
   "codemirror_mode": {
    "name": "ipython",
    "version": 3
   },
   "file_extension": ".py",
   "mimetype": "text/x-python",
   "name": "python",
   "nbconvert_exporter": "python",
   "pygments_lexer": "ipython3",
   "version": "3.9.18"
  }
 },
 "nbformat": 4,
 "nbformat_minor": 5
}
